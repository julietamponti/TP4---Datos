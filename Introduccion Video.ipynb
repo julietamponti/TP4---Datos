{
 "cells": [
  {
   "cell_type": "markdown",
   "id": "5d0c3250",
   "metadata": {
    "slideshow": {
     "slide_type": "slide"
    }
   },
   "source": [
    "## TP 4 - Organización de datos\n",
    "\n",
    "* Facultad de Ingenieria UBA\n",
    "* Materia: Organización de datos (7506)\n",
    "* Cátedra: Argerich\n",
    "* Alumna: Ponti Julieta.\n",
    "* Padrón:104694\n",
    "***\n",
    "### Introducción."
   ]
  },
  {
   "cell_type": "markdown",
   "id": "b21b1012",
   "metadata": {
    "slideshow": {
     "slide_type": "slide"
    }
   },
   "source": [
    "## Econometría"
   ]
  },
  {
   "cell_type": "markdown",
   "id": "aff865e2",
   "metadata": {
    "slideshow": {
     "slide_type": "subslide"
    }
   },
   "source": [
    "La Econometría es la aplicación de métodos estadísticos y matemáticos al análisis de datos económicos con el propósito de dar contenido empírico a las teorías económicas y verificarlas o refutarlas."
   ]
  },
  {
   "cell_type": "markdown",
   "id": "fcf4fbb8",
   "metadata": {
    "slideshow": {
     "slide_type": "slide"
    }
   },
   "source": [
    "## Modelo: LinearRegression"
   ]
  },
  {
   "cell_type": "markdown",
   "id": "ed586986",
   "metadata": {
    "slideshow": {
     "slide_type": "subslide"
    }
   },
   "source": [
    "## ¿Qué es la regresion lineal?"
   ]
  },
  {
   "cell_type": "markdown",
   "id": "3ce56b6f",
   "metadata": {
    "slideshow": {
     "slide_type": "subslide"
    }
   },
   "source": [
    "Consiste en predecir una respuesta numérica Y en base a una única variable predictora **X** , suponiendo la siguiente relación lineal.\n",
    "\n",
    "$Y \\approx β_0 +  β_1 * X$, siendo Y la prediccion, $β_0$ y  $β_1$ variables a encontrar  y X el dato de entrada."
   ]
  },
  {
   "cell_type": "markdown",
   "id": "26333117",
   "metadata": {
    "slideshow": {
     "slide_type": "slide"
    }
   },
   "source": [
    "## Modelo: Red neuronal"
   ]
  },
  {
   "cell_type": "markdown",
   "id": "e2bdbadf",
   "metadata": {
    "slideshow": {
     "slide_type": "subslide"
    }
   },
   "source": [
    "### Sequential - Keras"
   ]
  },
  {
   "cell_type": "markdown",
   "id": "cd129c36",
   "metadata": {
    "slideshow": {
     "slide_type": "subslide"
    }
   },
   "source": [
    "La principal caracteristica de Sequential es que es un modelo secuencial como lo indica su nombre, lo que significa que solo permite que las capas se agregen en secuencia a la red. "
   ]
  },
  {
   "cell_type": "markdown",
   "id": "5b70bdda",
   "metadata": {
    "slideshow": {
     "slide_type": "subslide"
    }
   },
   "source": [
    "### Parámetros"
   ]
  },
  {
   "cell_type": "markdown",
   "id": "7afb610c",
   "metadata": {
    "slideshow": {
     "slide_type": "subslide"
    }
   },
   "source": [
    "* ***Batch size:*** es el numero de datos que tiene cada iteracion de un ciclo (epoch), esto es util cuando se tiene una gran cantidad de datos, dado que si se trabajara con todos los datos a la vez,la red tardaria mas en ejercutar cada ciclo, si se dividieran los ciclos en iteraciones con un numero de datos mas pequeño, ya no es necesario cargar todos los datos en la memoria al mismo tiempo y la red neuronal se entrena más rápido.\n",
    "\n",
    "* ***Epochs:*** es la cantidad de iteraciones que estableceremos como limite para el aprendizaje de nuestra red.\n",
    "\n",
    "* ***Validation_split:*** toma el porcentaje que le indiquemos como set de validacion, para entrenar el modelo.\n",
    "\n",
    "* ***Learning_rate:*** indica que tan largo sera el camino que tomo el algoritmo de optimizacion, de el depende la velocidad de aprendizaje."
   ]
  },
  {
   "cell_type": "markdown",
   "id": "061d945a",
   "metadata": {
    "slideshow": {
     "slide_type": "subslide"
    }
   },
   "source": [
    "### EarlyStopping"
   ]
  },
  {
   "cell_type": "markdown",
   "id": "b967afe9",
   "metadata": {
    "slideshow": {
     "slide_type": "subslide"
    }
   },
   "source": [
    "La funcion de este objeto sera detener el entrenamiento de la red cuando la metrica indicada para monitorear haya dejado de mejorar. \n",
    "\n",
    "Se le debe indicar una metrica, la tolerancia de iteraciones y si restaurar o no a los pesos del modelo de la itracion con mejor valor de la metrica monitoreada."
   ]
  },
  {
   "cell_type": "markdown",
   "id": "b71529be",
   "metadata": {
    "slideshow": {
     "slide_type": "subslide"
    }
   },
   "source": [
    "### Drop-Out"
   ]
  },
  {
   "cell_type": "markdown",
   "id": "4484108d",
   "metadata": {
    "slideshow": {
     "slide_type": "subslide"
    }
   },
   "source": [
    "Experimentalmente se observa que hay neuronas dentro de la red que aprenden más y son más importantes en la tarea de la predicción, mientras que hay otras con pesos muy pequeños que no tienen mucho efecto en el aprendizaje.\n",
    "\n",
    "\n",
    "La térnica de *drop-out* hace que durante el entrenamiento no se usen todas las neuronas todo el tiempo. De esta manera, se optimizan más equitativamente todos los parámetros con la idea de que se obtengan mejores resultados de predicción. Y a su vez, es una forma de evitar el overfitting."
   ]
  },
  {
   "cell_type": "markdown",
   "id": "a2be7f7c",
   "metadata": {
    "slideshow": {
     "slide_type": "slide"
    }
   },
   "source": [
    "## Residual plots"
   ]
  },
  {
   "cell_type": "markdown",
   "id": "65afd6bc",
   "metadata": {
    "slideshow": {
     "slide_type": "subslide"
    }
   },
   "source": [
    "### Scatter Plot"
   ]
  },
  {
   "cell_type": "markdown",
   "id": "8913687d",
   "metadata": {
    "slideshow": {
     "slide_type": "subslide"
    }
   },
   "source": [
    "Vamos a tener una buena regresion cuando toda la nube de puntos esta alrededor de la recta de 45 grados. Cuantos mas puntos esten mas lejos de dicha recta (puntos aislados), peor se vuelve el modelo. "
   ]
  },
  {
   "cell_type": "markdown",
   "id": "473529eb",
   "metadata": {
    "slideshow": {
     "slide_type": "subslide"
    }
   },
   "source": [
    "### HistPlot"
   ]
  },
  {
   "cell_type": "markdown",
   "id": "8123122b",
   "metadata": {
    "slideshow": {
     "slide_type": "subslide"
    }
   },
   "source": [
    "Muestra la distribución del residuo. En nuestro caso, estamos trabajando con regresiones lineales, por lo que queremos que el error sea guassiano. ¿Que quiere decir esto? Para que nuestro modelo se vea bien, la distribución de los residuos queremos que sea normal por el Teorema Central del Limite (TCL), es decir que su grafica sea lo mas similar a la campana de Gauss, lo que indicaria implicitamente que la media es 0."
   ]
  },
  {
   "cell_type": "markdown",
   "id": "1368eda8",
   "metadata": {
    "slideshow": {
     "slide_type": "slide"
    }
   },
   "source": [
    "## Métrica a usar"
   ]
  },
  {
   "cell_type": "markdown",
   "id": "40901666",
   "metadata": {
    "slideshow": {
     "slide_type": "subslide"
    }
   },
   "source": [
    "### MSE"
   ]
  },
  {
   "cell_type": "markdown",
   "id": "d43aa2bf",
   "metadata": {
    "slideshow": {
     "slide_type": "subslide"
    }
   },
   "source": [
    "Resulta la métrica más comúnmente utilizada en econometria, para las tareas de regresión.\n",
    "\n",
    "Representa a la raíz cuadrada de la distancia cuadrada promedio entre el valor real y el valor pronosticado.\n",
    "\n",
    "El error cuadratico medio o RMSE es una medida absoluta de ajuste.\n",
    "\n",
    "Los valores más bajos de RMSE indican un mejor ajuste. \n",
    "\n",
    "RMSE es una buena medida de la precisión con que el modelo predice la respuesta, y es el criterio más importante para ajustar si el propósito principal del modelo es la predicción."
   ]
  },
  {
   "cell_type": "markdown",
   "id": "fbb8c7f7",
   "metadata": {
    "slideshow": {
     "slide_type": "slide"
    }
   },
   "source": [
    "## Calibración"
   ]
  },
  {
   "cell_type": "markdown",
   "id": "7308ba48",
   "metadata": {
    "slideshow": {
     "slide_type": "subslide"
    }
   },
   "source": [
    "### Medición"
   ]
  },
  {
   "cell_type": "markdown",
   "id": "50fc6252",
   "metadata": {
    "slideshow": {
     "slide_type": "subslide"
    }
   },
   "source": [
    "Una forma de medirla, es medir la correlacion ***(r2)*** entre el valor real y el valor predicho, esto determinara la calidad del ajuste. \n",
    "\n",
    "Si r2 es cercano o igual a 1, el ajuste será bueno y las predicciones realizadas a partir del modelo obtenido serán muy fiables (el modelo obtenido resulta verdaderamente representativo); si r es cercano o igual a 0, se tratará de un ajuste malo, por lo tanto, las predicciones que se realicen a partir del modelo obtenido no serán fiables (el modelo obtenido no resulta representativo de la realidad). "
   ]
  },
  {
   "cell_type": "markdown",
   "id": "55af0b8a",
   "metadata": {
    "slideshow": {
     "slide_type": "slide"
    }
   },
   "source": [
    "## Tarea a resolver\n",
    "***\n",
    "### Tarea 6 de la DeepWeb\n",
    "\n",
    "¿Cuál es el modelo más simple que mejor funciona en validación? ¿Cuál es la calibración\n",
    "de los modelos y qué modelos consiguen la mejor? ¿Qué features utilizan?"
   ]
  }
 ],
 "metadata": {
  "celltoolbar": "Slideshow",
  "kernelspec": {
   "display_name": "Python 3",
   "language": "python",
   "name": "python3"
  },
  "language_info": {
   "codemirror_mode": {
    "name": "ipython",
    "version": 3
   },
   "file_extension": ".py",
   "mimetype": "text/x-python",
   "name": "python",
   "nbconvert_exporter": "python",
   "pygments_lexer": "ipython3",
   "version": "3.8.8"
  }
 },
 "nbformat": 4,
 "nbformat_minor": 5
}
